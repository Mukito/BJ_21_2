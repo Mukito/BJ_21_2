{
 "cells": [
  {
   "cell_type": "markdown",
   "metadata": {},
   "source": [
    "## Fazer uma Janela execultavel em Python\n",
    "    -   Segundo player\n",
    "    -   inteligência para jogar com a maquina\n",
    "    -   1, 2, 3, 4    (1 x 1) ou (1 x M)"
   ]
  },
  {
   "cell_type": "code",
   "execution_count": null,
   "metadata": {},
   "outputs": [],
   "source": []
  }
 ],
 "metadata": {
  "language_info": {
   "name": "python"
  }
 },
 "nbformat": 4,
 "nbformat_minor": 2
}
